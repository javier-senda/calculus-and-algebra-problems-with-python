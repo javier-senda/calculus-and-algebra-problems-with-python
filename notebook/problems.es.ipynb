{
 "cells": [
  {
   "cell_type": "markdown",
   "id": "5dbe7b9e",
   "metadata": {},
   "source": [
    "# Problemas de Cálculo y Álgebra"
   ]
  },
  {
   "cell_type": "markdown",
   "id": "519c4b12",
   "metadata": {},
   "source": [
    "## Cálculo\n",
    "\n",
    "El cálculo no es algo oscuro. Es el lenguaje para modelar comportamientos. El cálculo nos permite encontrar la tasa de cambios para optimizar una función. Sin el cálculo, no podríamos comprender completamente técnicas como\n",
    "\n",
    "Retropropagación en redes neuronales\n",
    "\n",
    "Regresión utilizando mínimos cuadrados óptimos\n",
    "\n",
    "Maximización de la expectativa en el ajuste de modelos probabilísticos"
   ]
  },
  {
   "cell_type": "markdown",
   "id": "b7e2e87a",
   "metadata": {},
   "source": [
    "### Ejercicio 1\n",
    "\n",
    "Supongamos que, en mi oficina, me toma 10 segundos (tiempo) recorrer 25 metros (distancia) hasta la máquina de café.\n",
    "Si queremos expresar la situación anterior como una función, sería:\n",
    "\n",
    "distancia=velocidad×tiempo\n",
    "\n",
    "Por lo tanto, en este caso, la velocidad es la primera derivada de la función de distancia mencionada. Dado que la velocidad describe la tasa de cambio de la distancia con respecto al tiempo, cuando las personas dicen que toman la primera derivada de una función determinada, se refieren a encontrar la tasa de cambio de esa función.\n",
    "\n",
    "**Encuentra la velocidad y construye la función lineal de la distancia $(d)$ con respecto al tiempo $(t)$, cuando $(t ∈ [0,10])$.**"
   ]
  },
  {
   "cell_type": "code",
   "execution_count": 54,
   "id": "bb3e954e",
   "metadata": {},
   "outputs": [
    {
     "data": {
      "text/plain": [
       "array([ 0.        ,  0.20408163,  0.40816327,  0.6122449 ,  0.81632653,\n",
       "        1.02040816,  1.2244898 ,  1.42857143,  1.63265306,  1.83673469,\n",
       "        2.04081633,  2.24489796,  2.44897959,  2.65306122,  2.85714286,\n",
       "        3.06122449,  3.26530612,  3.46938776,  3.67346939,  3.87755102,\n",
       "        4.08163265,  4.28571429,  4.48979592,  4.69387755,  4.89795918,\n",
       "        5.10204082,  5.30612245,  5.51020408,  5.71428571,  5.91836735,\n",
       "        6.12244898,  6.32653061,  6.53061224,  6.73469388,  6.93877551,\n",
       "        7.14285714,  7.34693878,  7.55102041,  7.75510204,  7.95918367,\n",
       "        8.16326531,  8.36734694,  8.57142857,  8.7755102 ,  8.97959184,\n",
       "        9.18367347,  9.3877551 ,  9.59183673,  9.79591837, 10.        ])"
      ]
     },
     "execution_count": 54,
     "metadata": {},
     "output_type": "execute_result"
    }
   ],
   "source": [
    "# importa las librerías\n",
    "import matplotlib.pyplot as plt\n",
    "import numpy as np\n",
    "import pandas as pd\n",
    "\n",
    "# Define la función de distancia\n",
    "def d(x): return x*2.5\n",
    "x=np.linspace(0,10)\n",
    "x"
   ]
  },
  {
   "cell_type": "code",
   "execution_count": 55,
   "id": "dbc4c780",
   "metadata": {},
   "outputs": [
    {
     "data": {
      "text/plain": [
       "Text(0, 0.5, 'Distancia(m)')"
      ]
     },
     "execution_count": 55,
     "metadata": {},
     "output_type": "execute_result"
    },
    {
     "data": {
      "image/png": "[encoded data removed]",
      "text/plain": [
       "<Figure size 640x480 with 1 Axes>"
      ]
     },
     "metadata": {},
     "output_type": "display_data"
    }
   ],
   "source": [
    "# \"Graficar la función de distancia en el dominio (t)\n",
    "plt.plot(x,d(x))\n",
    "plt.xlabel(\"Tiempo(s)\")\n",
    "plt.ylabel(\"Distancia(m)\")"
   ]
  },
  {
   "cell_type": "code",
   "execution_count": 56,
   "id": "4c4d4f20",
   "metadata": {},
   "outputs": [
    {
     "data": {
      "text/html": [
       "<div>\n",
       "<style scoped>\n",
       "    .dataframe tbody tr th:only-of-type {\n",
       "        vertical-align: middle;\n",
       "    }\n",
       "\n",
       "    .dataframe tbody tr th {\n",
       "        vertical-align: top;\n",
       "    }\n",
       "\n",
       "    .dataframe thead th {\n",
       "        text-align: right;\n",
       "    }\n",
       "</style>\n",
       "<table border=\"1\" class=\"dataframe\">\n",
       "  <thead>\n",
       "    <tr style=\"text-align: right;\">\n",
       "      <th></th>\n",
       "      <th>tiempo(s)</th>\n",
       "      <th>distancia(m)</th>\n",
       "    </tr>\n",
       "  </thead>\n",
       "  <tbody>\n",
       "    <tr>\n",
       "      <th>0</th>\n",
       "      <td>0.000000</td>\n",
       "      <td>0.000000</td>\n",
       "    </tr>\n",
       "    <tr>\n",
       "      <th>1</th>\n",
       "      <td>0.204082</td>\n",
       "      <td>0.510204</td>\n",
       "    </tr>\n",
       "    <tr>\n",
       "      <th>2</th>\n",
       "      <td>0.408163</td>\n",
       "      <td>1.020408</td>\n",
       "    </tr>\n",
       "  </tbody>\n",
       "</table>\n",
       "</div>"
      ],
      "text/plain": [
       "   tiempo(s)  distancia(m)\n",
       "0   0.000000      0.000000\n",
       "1   0.204082      0.510204\n",
       "2   0.408163      1.020408"
      ]
     },
     "execution_count": 56,
     "metadata": {},
     "output_type": "execute_result"
    }
   ],
   "source": [
    "# Crea un DataFrame\n",
    "df=pd.DataFrame({'tiempo(s)':x,'distancia(m)':d(x)})\n",
    "df.head(3)"
   ]
  },
  {
   "cell_type": "markdown",
   "id": "1144168d",
   "metadata": {},
   "source": [
    "### Ejercicio 2\n",
    "\n",
    "Resultó que no caminaba a una velocidad constante hacia la máquina de café, sino que estaba acelerando (mi velocidad aumentaba con el tiempo). Si mi velocidad inicial era 0, todavía me tomó 10 segundos viajar desde mi asiento hasta la máquina de café, pero caminaba cada vez más rápido.\n",
    "\n",
    "$V_o$ = velocidad inicial = $0$\n",
    "\n",
    "t = tiempo\n",
    "\n",
    "a = aceleración\n",
    "\n",
    "**distancia** = $V_o * t + 0.5 * a * (t^2)$\n",
    "\n",
    "**velocidad** = $V_o + a * t$\n",
    "\n",
    "La primera derivada de la función de velocidad es la aceleración. Me doy cuenta de que la función de velocidad está estrechamente relacionada con la función de distancia.\n",
    "\n",
    "**Encuentra el valor de la aceleración y construye la función cuadrática para  $(t ∈ [0,10])$. Además, crea un gráfico y una tabla.**"
   ]
  },
  {
   "cell_type": "code",
   "execution_count": 57,
   "id": "ec1f8bd7",
   "metadata": {},
   "outputs": [
    {
     "data": {
      "text/plain": [
       "Text(0, 0.5, 'Distancia(m)')"
      ]
     },
     "execution_count": 57,
     "metadata": {},
     "output_type": "execute_result"
    },
    {
     "data": {
      "image/png": "[encoded data removed]",
      "text/plain": [
       "<Figure size 640x480 with 1 Axes>"
      ]
     },
     "metadata": {},
     "output_type": "display_data"
    }
   ],
   "source": [
    "# Define y grafica la función cuadrática\n",
    "#si distancia es = 25 metros , V_o = 0 y tiempo=10 s; entonces aceleración = 25m(distancia)/0.5*100(10 segundos (tiempo) al cuadrado) = 25/50= 0'5m/s^2\n",
    "a=0.5\n",
    "def f(t):return 0.5*a*(t**2)\n",
    "t=np.linspace(0,10)\n",
    "\n",
    "plt.plot(t,f(t))\n",
    "plt.xlabel(\"Tiempo(s)\")\n",
    "plt.ylabel(\"Distancia(m)\")\n"
   ]
  },
  {
   "cell_type": "code",
   "execution_count": 58,
   "id": "ba5c497b",
   "metadata": {},
   "outputs": [
    {
     "data": {
      "text/html": [
       "<div>\n",
       "<style scoped>\n",
       "    .dataframe tbody tr th:only-of-type {\n",
       "        vertical-align: middle;\n",
       "    }\n",
       "\n",
       "    .dataframe tbody tr th {\n",
       "        vertical-align: top;\n",
       "    }\n",
       "\n",
       "    .dataframe thead th {\n",
       "        text-align: right;\n",
       "    }\n",
       "</style>\n",
       "<table border=\"1\" class=\"dataframe\">\n",
       "  <thead>\n",
       "    <tr style=\"text-align: right;\">\n",
       "      <th></th>\n",
       "      <th>tiempo(s)</th>\n",
       "      <th>distancia(m)</th>\n",
       "    </tr>\n",
       "  </thead>\n",
       "  <tbody>\n",
       "    <tr>\n",
       "      <th>0</th>\n",
       "      <td>0.000000</td>\n",
       "      <td>0.000000</td>\n",
       "    </tr>\n",
       "    <tr>\n",
       "      <th>1</th>\n",
       "      <td>0.204082</td>\n",
       "      <td>0.510204</td>\n",
       "    </tr>\n",
       "    <tr>\n",
       "      <th>2</th>\n",
       "      <td>0.408163</td>\n",
       "      <td>1.020408</td>\n",
       "    </tr>\n",
       "  </tbody>\n",
       "</table>\n",
       "</div>"
      ],
      "text/plain": [
       "   tiempo(s)  distancia(m)\n",
       "0   0.000000      0.000000\n",
       "1   0.204082      0.510204\n",
       "2   0.408163      1.020408"
      ]
     },
     "execution_count": 58,
     "metadata": {},
     "output_type": "execute_result"
    }
   ],
   "source": [
    "# Crea un DataFrame\n",
    "df=pd.DataFrame({'tiempo(s)':x,'distancia(m)':d(x)})\n",
    "df.head(3)"
   ]
  },
  {
   "cell_type": "markdown",
   "id": "66d4cc18",
   "metadata": {},
   "source": [
    "Antes del ejercicio 3, haremos una breve introducción al algoritmo de Descenso por Gradientes, el cual tendrá una explicación más detallada en módulos futuros del bootcamp.\n",
    "\n",
    "El algoritmo de Descenso por Gradientes es el héroe detrás de la familia de algoritmos de aprendizaje profundo. Cuando un algoritmo de esta familia se ejecuta, intenta minimizar el error entre la entrada de entrenamiento y la salida predicha. Esta minimización se realiza mediante algoritmos de optimización, y el descenso por gradientes es el más popular.\n",
    "\n",
    "Supongamos que tienes estos pares de entrada y salida:\n",
    "\n",
    "```py\n",
    "# Entrada:\n",
    "[\n",
    " [1,2],\n",
    " [3,4]\n",
    "]\n",
    "\n",
    "# Salida:\n",
    "[\n",
    " [50],\n",
    " [110]\n",
    "]\n",
    "```\n",
    "\n",
    "Podemos estimar que si multiplicamos los valores de entrada por [10, 20], podemos obtener la salida como se muestra arriba.\n",
    "\n",
    "```py\n",
    "1(10) + 2(20) = 50\n",
    "\n",
    "3(10) + 4(20) = 110\n",
    "```\n",
    "\n",
    "Cuando un algoritmo de aprendizaje automático comienza a ejecutarse, asigna valores aleatorios y hace una predicción.\n",
    "Supongamos que asignó los valores [1,2]:\n",
    "\n",
    "```py\n",
    "1(1) + 2(2) = 5\n",
    "\n",
    "3(1) + 4(2) = 11\n",
    "```\n",
    "\n",
    "Una vez que tiene las predicciones, calcula el error: la diferencia entre los datos reales y los datos predichos. Existen muchas formas de calcular el error, y se les llama funciones de pérdida.\n",
    "\n",
    "Una vez que tenemos este valor, el algoritmo de optimización comienza a mostrar su funcionamiento, y establece nuevos valores que reemplazan a los valores aleatorios iniciales.\n",
    "\n",
    "Y el ciclo continúa hasta que se cumple una condición. Esa condición puede ser hacer el ciclo n veces, o hacerlo hasta que el error sea menor que un valor determinado."
   ]
  },
  {
   "cell_type": "markdown",
   "id": "85ef2f0b",
   "metadata": {},
   "source": [
    "Puede ser difícil entender descenso por gradientes sin comprender gradiente. Así que, vamos a centrarnos en lo que es un gradiente. El gradiente muestra la dirección del mayor cambio de una función escalar. El cálculo del gradiente se realiza con derivadas, así que empecemos con un ejemplo sencillo. Para calcular el gradiente, solo necesitamos recordar algunos cálculos de álgebra lineal de la escuela secundaria porque necesitamos calcular derivadas.\n",
    "\n",
    "Supongamos que queremos encontrar el punto mínimo de $f(x) = x^2$. La derivada de esa función es $df(x)=2x$. \n",
    "\n",
    "El gradiente de $f(x)$ en el punto $x=-10$\n",
    "\n",
    "es \n",
    "\n",
    "$df(-10)=-20$.\n",
    "\n",
    "El gradiente de $f(x)$ en el punto $x=1$\n",
    "\n",
    "es \n",
    "\n",
    "$df(1)=2$.\n",
    "\n",
    "Ahora visualicemos $f(x)$ y esos puntos $x=-10$ y $x=1$ ."
   ]
  },
  {
   "cell_type": "code",
   "execution_count": 59,
   "id": "4ff7e11a",
   "metadata": {},
   "outputs": [],
   "source": [
    "import numpy as np\n",
    "import seaborn as sns\n",
    "\n",
    "def f(x):\n",
    "    return x**2\n",
    "\n",
    "def df(x):\n",
    "    return 2*x\n",
    "\n",
    "def visualize(f, x=None):\n",
    "    \n",
    "    xArray = np.linspace(-10, 10, 100) \n",
    "    yArray = f(xArray)\n",
    "    sns.lineplot(x=xArray, y=yArray)\n",
    "    \n",
    "    if x is not None:\n",
    "        assert type(x) in [np.ndarray, list] # x debería ser un array de numpy o una lista\n",
    "        if type(x) is list: # Si es una lista, convertir en un array de numpy\n",
    "            x = np.array(x)\n",
    "\n",
    "            \n",
    "        y = f(x)\n",
    "        sns.scatterplot(x=x, y=y, color='red')"
   ]
  },
  {
   "cell_type": "code",
   "execution_count": 60,
   "id": "633a54fd",
   "metadata": {},
   "outputs": [
    {
     "data": {
      "image/png": "[encoded data removed]",
      "text/plain": [
       "<Figure size 640x480 with 1 Axes>"
      ]
     },
     "metadata": {},
     "output_type": "display_data"
    }
   ],
   "source": [
    "visualize(f, x=[-10, 1])"
   ]
  },
  {
   "cell_type": "markdown",
   "id": "9c187ad7",
   "metadata": {},
   "source": [
    "El punto rojo en x=-10 no conoce la superficie sobre la que se encuentra, solo sabe las coordenadas del lugar donde está y su propio gradiente, que es -20. Y el otro punto rojo en x=1 no sabe la superficie en la que se encuentra; solo sabe las coordenadas de su posición y su gradiente, que es 2.\n",
    "\n",
    "Con solo esta información, podemos decir que el punto rojo en x=-10 debería hacer un salto mayor que el de x=1 porque tiene un valor absoluto de gradiente mayor. El signo indica la dirección. El signo negativo (-) indica que el punto rojo en  x=-10 debe moverse hacia la derecha, mientras que el otro debe moverse hacia la izquierda.\n",
    "\n",
    "En resumen, el punto rojo en x=-10 (gradient: -20)  debería hacer un salto más grande hacia la derecha, y el punto rojo en x=1 (gradient: 2) debería hacer un salto más pequeño hacia la izquierda. \n",
    "\n",
    "Sabemos que la longitud del salto debería ser proporcional al gradiente, pero ¿cuál es exactamente ese valor? No lo sabemos. Así que, digamos que los puntos rojos deben moverse con una longitud de alpha * gradiente, donde alpha es solo un parámetro.\n",
    "\n",
    "Podemos decir que la nueva ubicación del punto rojo debe calcularse con la siguiente fórmula:\n",
    "\n",
    "x = x - gradient * alpha"
   ]
  },
  {
   "cell_type": "markdown",
   "id": "0a7f5c3f",
   "metadata": {},
   "source": [
    "Ahora implementemos esto con **NumPy**. Comencemos visualizando la función $f(x)=x^2$ y el punto $x=-10$."
   ]
  },
  {
   "cell_type": "code",
   "execution_count": 61,
   "id": "e26dbdf0",
   "metadata": {},
   "outputs": [
    {
     "data": {
      "image/png": "[encoded data removed]",
      "text/plain": [
       "<Figure size 640x480 with 1 Axes>"
      ]
     },
     "metadata": {},
     "output_type": "display_data"
    }
   ],
   "source": [
    "visualize(f, x=[-10])"
   ]
  },
  {
   "cell_type": "markdown",
   "id": "6e752e19",
   "metadata": {},
   "source": [
    "El siguiente código implementa toda la lógica explicada anteriormente:"
   ]
  },
  {
   "cell_type": "code",
   "execution_count": 62,
   "id": "2bdd54f1",
   "metadata": {},
   "outputs": [],
   "source": [
    "def gradient_descent(x, nsteps=1):\n",
    "    \n",
    "    # collectXs es un array para almacenar cómo cambió x en cada iteración, para poder visualizarlo más tarde\n",
    "    \n",
    "    collectXs = [x]\n",
    "    \n",
    "    # learning_rate es el valor que mencionamos como alpha en la sección anterior\n",
    "    \n",
    "    learning_rate = 1e-01\n",
    "    \n",
    "    for _ in range(nsteps):\n",
    "        \n",
    "        # La siguiente línea hace la verdadera magia\n",
    "        # El siguiente valor de x se calcula restando el gradiente * learning_rate de sí mismo\n",
    "        # La intuición detrás de esta línea está en la sección anterior\n",
    "        \n",
    "        x -= df(x) * learning_rate \n",
    "        collectXs.append(x)\n",
    "        \n",
    "    # Retornamos una tupla que contiene\n",
    "    # x -> el valor reciente de x después de nsteps \n",
    "    # collectXs -> todos los valores de x que se calcularon hasta ahora\n",
    "    \n",
    "    return x, collectXs\n"
   ]
  },
  {
   "cell_type": "markdown",
   "id": "aea74a65",
   "metadata": {},
   "source": [
    "Antes de ejecutar un descenso por gradientes con 1000 pasos, ejecutémoslo solo dos veces, un paso a la vez, para ver cómo evoluciona x. \n",
    "Comenzamos con x=-10, y evoluciona a x=-8.Sabemos que cuando x=0 ese es el **punto mínimo**, así que sí, está evolucionando en la dirección correcta."
   ]
  },
  {
   "cell_type": "code",
   "execution_count": 63,
   "id": "0350981e",
   "metadata": {},
   "outputs": [
    {
     "name": "stdout",
     "output_type": "stream",
     "text": [
      "-8.0\n"
     ]
    }
   ],
   "source": [
    "x=-10\n",
    "x, collectedXs = gradient_descent(x, nsteps=1)\n",
    "print(x)"
   ]
  },
  {
   "cell_type": "code",
   "execution_count": 64,
   "id": "f8e01e2d",
   "metadata": {},
   "outputs": [
    {
     "name": "stdout",
     "output_type": "stream",
     "text": [
      "-6.4\n"
     ]
    }
   ],
   "source": [
    "# El siguiente paso comenzará en  at x=-8. Ejecutemos un descenso por gradientes durante 1 paso.\n",
    "\n",
    "x, collectedXs = gradient_descent(x, nsteps=1)\n",
    "print(x)"
   ]
  },
  {
   "cell_type": "markdown",
   "id": "93f13b32",
   "metadata": {},
   "source": [
    "Llega a 𝑥=−6.4. Excelente. Ahora, ejecutémoslo 1000 veces."
   ]
  },
  {
   "cell_type": "code",
   "execution_count": 65,
   "id": "b699d1fb",
   "metadata": {},
   "outputs": [
    {
     "name": "stdout",
     "output_type": "stream",
     "text": [
      "-7.873484301831169e-97\n"
     ]
    }
   ],
   "source": [
    "x, collectedXs = gradient_descent(x, nsteps=1000)\n",
    "print(x)"
   ]
  },
  {
   "cell_type": "code",
   "execution_count": 66,
   "id": "0b76ee22",
   "metadata": {},
   "outputs": [
    {
     "data": {
      "image/png": "[encoded data removed]",
      "text/plain": [
       "<Figure size 640x480 with 1 Axes>"
      ]
     },
     "metadata": {},
     "output_type": "display_data"
    }
   ],
   "source": [
    "visualize(f, x=collectedXs)"
   ]
  },
  {
   "cell_type": "markdown",
   "id": "d00d2fbb",
   "metadata": {},
   "source": [
    "### Ejercicio 3\n",
    "\n",
    "Cuando llego a la máquina de café, escucho a mi colega hablar sobre los costos unitarios de producir el 'producto B' para la empresa. A medida que la empresa produce más unidades, los costos unitarios continúan disminuyendo hasta un punto en el que comienzan a aumentar.\n",
    "\n",
    "Para optimizar el costo de producción por unidad en su mínimo y mejorar la eficiencia, la empresa necesitaría encontrar el número de unidades que deben producirse donde los costos unitarios de producción comienzan a cambiar de disminuir a aumentar.\n",
    "\n",
    "**Construye la función cuadrática $f(x)=0.1(x)^2−9x +4500$ en $x∈[0,100]$ para crear la función de costo por unidad, y haz una conclusión.**"
   ]
  },
  {
   "cell_type": "code",
   "execution_count": 67,
   "id": "7c67d8b7",
   "metadata": {},
   "outputs": [
    {
     "data": {
      "text/plain": [
       "Text(0, 0.5, 'Coste por unidad')"
      ]
     },
     "execution_count": 67,
     "metadata": {},
     "output_type": "execute_result"
    },
    {
     "data": {
      "image/png": "[encoded data removed]",
      "text/plain": [
       "<Figure size 640x480 with 1 Axes>"
      ]
     },
     "metadata": {},
     "output_type": "display_data"
    }
   ],
   "source": [
    "# Definir y graficar la función\n",
    "def f(x): return 0.1*(x)**2 -9*x + 4500\n",
    "x = np.linspace(0,100)\n",
    "plt.plot(x, f(x))\n",
    "plt.xlabel(\"Unidades\")\n",
    "plt.ylabel(\"Coste por unidad\")"
   ]
  },
  {
   "cell_type": "markdown",
   "id": "fbe54895",
   "metadata": {},
   "source": [
    "Vimos con el Descenso por Gradientes cómo el punto rojo navega en un entorno que no conoce. Solo sabe las coordenadas de donde está y su gradiente. El punto rojo podría encontrar el punto mínimo usando solo este conocimiento y el algoritmo de descenso por gradientes.\n",
    "\n",
    "**Opcional**:\n",
    "\n",
    "Implementa todos los pasos anteriores para crear un algoritmo de descenso por gradientes y ver cómo evoluciona el costo por unidad, comenzando desde 0 unidades de producción."
   ]
  },
  {
   "cell_type": "markdown",
   "id": "aabad82c",
   "metadata": {},
   "source": [
    "## Álgebra lineal"
   ]
  },
  {
   "cell_type": "markdown",
   "id": "6753636d",
   "metadata": {},
   "source": [
    "### Ejercicio 1: Suma de dos matrices\n",
    "\n",
    "Supón que tenemos dos matrices A y B.\n",
    "\n",
    "```py\n",
    "A = [[1,2],[3,4]]\n",
    "B = [[4,5],[6,7]]\n",
    "\n",
    "luego tenemos\n",
    "A+B = [[5,7],[9,11]]\n",
    "A-B = [[-3,-3],[-3,-3]]\n",
    "```\n",
    "\n",
    "Suma ambas matrices usando Python con NumPy."
   ]
  },
  {
   "cell_type": "code",
   "execution_count": 68,
   "id": "9e200c32",
   "metadata": {},
   "outputs": [
    {
     "name": "stdout",
     "output_type": "stream",
     "text": [
      "A\n",
      "[[1 2]\n",
      " [3 4]]\n",
      "B\n",
      "[[4 5]\n",
      " [6 7]]\n"
     ]
    },
    {
     "data": {
      "text/plain": [
       "array([[ 5,  7],\n",
       "       [ 9, 11]])"
      ]
     },
     "execution_count": 68,
     "metadata": {},
     "output_type": "execute_result"
    }
   ],
   "source": [
    "# import numpy as np\n",
    "import numpy as np\n",
    " \n",
    " \n",
    "# Crear la primera matriz\n",
    "A=np.array([[1,2],[3,4]])\n",
    " \n",
    "# Crear la segunda matriz\n",
    "B=np.array([[4, 5], [6, 7]])\n",
    " \n",
    "# Imprimir elementos\n",
    "print(\"A\")\n",
    "print(A)\n",
    "print(\"B\")\n",
    "print(B)\n",
    " \n",
    "# Sumar ambas matrices\n",
    "np.add(A,B)"
   ]
  },
  {
   "cell_type": "markdown",
   "id": "93bfb6cc",
   "metadata": {},
   "source": [
    "### Ejercicio 2: Suma de dos listas\n",
    "\n",
    "Habrá muchas situaciones en las que tendremos que encontrar una suma por índice de dos listas diferentes. Esto puede tener aplicaciones posibles en la programación diaria. En este ejercicio, resolveremos el mismo problema de varias maneras en las que se puede realizar esta tarea.\n",
    "\n",
    "Tenemos las siguientes dos listas:\n",
    "\n",
    "```py\n",
    "list1 = [2, 5, 4, 7, 3]\n",
    "list2 = [1, 4, 6, 9, 10]\n",
    "```\n",
    "\n",
    "Ahora, usemos código en Python para demostrar la suma de dos listas."
   ]
  },
  {
   "cell_type": "code",
   "execution_count": 69,
   "id": "867b70fc",
   "metadata": {},
   "outputs": [
    {
     "name": "stdout",
     "output_type": "stream",
     "text": [
      "Original list 1 : [2, 5, 4, 7, 3]\n",
      "Original list 2 : [1, 4, 6, 9, 10]\n",
      "Resulting list is : [3, 9, 10, 16, 13]\n"
     ]
    }
   ],
   "source": [
    "# Naive method\n",
    "\n",
    "# Inicializando listas\n",
    "list1 = [2, 5, 4, 7, 3]\n",
    "list2 = [1, 4, 6, 9, 10]\n",
    " \n",
    "# Imprimir listas originales\n",
    "print (\"Original list 1 : \" + str(list1))\n",
    "print (\"Original list 2 : \" + str(list2))\n",
    " \n",
    "# Usando método ingenuo para sumar dos listas\n",
    "res_list = []\n",
    "for i in range(0, len(list1)):\n",
    "    res_list.append(list1[i] + list2[i])\n",
    " \n",
    "# Imprimir lista resultante\n",
    "print (\"Resulting list is : \" + str(res_list))"
   ]
  },
  {
   "cell_type": "markdown",
   "id": "7a063d7f",
   "metadata": {},
   "source": [
    "Ahora usa los siguientes tres métodos diferentes para realizar el mismo cálculo: suma de dos listas."
   ]
  },
  {
   "cell_type": "code",
   "execution_count": 70,
   "id": "681930a3",
   "metadata": {},
   "outputs": [
    {
     "name": "stdout",
     "output_type": "stream",
     "text": [
      "list1: [2, 5, 4, 7, 3]\n",
      "list2: [1, 4, 6, 9, 10]\n",
      "[3, 9, 10, 16, 13]\n"
     ]
    }
   ],
   "source": [
    "# Usar comprensión de listas para realizar la suma de las dos listas:\n",
    "\n",
    "\n",
    "# Inicializando listas\n",
    "list1=[2, 5, 4, 7, 3]\n",
    "list2=[1, 4, 6, 9, 10]\n",
    " \n",
    "# Imprimir listas originales\n",
    "print(\"list1: \" + str(list1))\n",
    "print(\"list2: \" + str(list2))\n",
    " \n",
    "# Usando comprensión de listas para sumar dos listas\n",
    "resultado=[]\n",
    "resultado = [list1[i] + list2[i] for i in range(len(list1))]\n",
    " \n",
    "# Imprimir lista resultante\n",
    "print(resultado)"
   ]
  },
  {
   "cell_type": "code",
   "execution_count": 71,
   "id": "a3a8a425",
   "metadata": {},
   "outputs": [
    {
     "name": "stdout",
     "output_type": "stream",
     "text": [
      "list1: [2, 5, 4, 7, 3]\n",
      "list2: [1, 4, 6, 9, 10]\n",
      "[3, 9, 10, 16, 13]\n"
     ]
    }
   ],
   "source": [
    "# Usar map() + add():\n",
    "from operator import add\n",
    "\n",
    "# Inicializando listas\n",
    "list1=[2, 5, 4, 7, 3]\n",
    "list2=[1, 4, 6, 9, 10]\n",
    " \n",
    "# Imprimir listas originales\n",
    "print(\"list1: \" + str(list1))\n",
    "print(\"list2: \" + str(list2))\n",
    " \n",
    "# Usando map() + add() para sumar dos listas\n",
    "resultado = list(map(add, list1, list2))\n",
    " \n",
    "# Imprimir lista resultante\n",
    "print(resultado)"
   ]
  },
  {
   "cell_type": "code",
   "execution_count": 72,
   "id": "1708d7ee",
   "metadata": {},
   "outputs": [
    {
     "name": "stdout",
     "output_type": "stream",
     "text": [
      "list1: [2, 5, 4, 7, 3]\n",
      "list2: [1, 4, 6, 9, 10]\n",
      "[3, 9, 10, 16, 13]\n"
     ]
    }
   ],
   "source": [
    "# Usar zip() + sum():\n",
    "\n",
    "\n",
    "# Inicializando listas\n",
    "list1=[2, 5, 4, 7, 3]\n",
    "list2=[1, 4, 6, 9, 10]\n",
    " \n",
    "# Imprimir listas originales\n",
    "print(\"list1: \" + str(list1))\n",
    "print(\"list2: \" + str(list2))\n",
    " \n",
    "# Usando zip() + sum() para sumar dos listas\n",
    "resultado = [sum(i) for i in zip(list1, list2)]\n",
    " \n",
    "# Imprimir lista resultante\n",
    "print(resultado)"
   ]
  },
  {
   "cell_type": "markdown",
   "id": "1aef1bd2",
   "metadata": {},
   "source": [
    "### Ejercicio 3: Multiplicación punto a punto\n",
    "\n",
    "Tenemos dos matrices:\n",
    "\n",
    "```py\n",
    "matrix1 = [[1,7,3],\n",
    " [4,5,2],\n",
    " [3,6,1]]\n",
    "matrix2 = [[5,4,1],\n",
    " [1,2,3],\n",
    " [4,5,2]]\n",
    "```\n",
    "\n",
    "Una técnica simple pero costosa para conjuntos de datos de entrada más grandes es usar bucles for. En este ejercicio, primero utilizaremos bucles for anidados para iterar a través de cada fila y columna de las matrices, y luego realizaremos la misma multiplicación usando NumPy."
   ]
  },
  {
   "cell_type": "code",
   "execution_count": 73,
   "id": "840e7d0e",
   "metadata": {},
   "outputs": [
    {
     "name": "stdout",
     "output_type": "stream",
     "text": [
      "[[24, 33, 28], [33, 36, 23], [25, 29, 23]]\n"
     ]
    }
   ],
   "source": [
    "# Usando un bucle for para ingresar dos matrices de tamaño n x m\n",
    "matrix1 = [[1,7,3],\n",
    " [4,5,2],\n",
    " [3,6,1]]\n",
    "matrix2 = [[5,4,1],\n",
    " [1,2,3],\n",
    " [4,5,2]]\n",
    " \n",
    "res = [[0 for x in range(3)] for y in range(3)]\n",
    " \n",
    "# Explicit for loops\n",
    "for i in range(len(matrix1)):\n",
    "    for j in range(len(matrix2[0])):\n",
    "        for k in range(len(matrix2)):\n",
    " \n",
    "            # Matriz resultante\n",
    "            res[i][j] += matrix1[i][k] * matrix2[k][j]\n",
    " \n",
    "print(res)"
   ]
  },
  {
   "cell_type": "code",
   "execution_count": 33,
   "id": "db6c3355",
   "metadata": {},
   "outputs": [
    {
     "name": "stdout",
     "output_type": "stream",
     "text": [
      "[[24 33 28]\n",
      " [33 36 23]\n",
      " [25 29 23]]\n"
     ]
    }
   ],
   "source": [
    "# Importar bibliotecas\n",
    "\n",
    " \n",
    "# Ingresar dos matrices\n",
    "matrix1 = ([1,7,3],[ 4,5,2],[ 3,6,1])\n",
    "matrix2 = ([5,4,1],[ 1,2,3],[ 4,5,2])\n",
    " \n",
    "# Esto devolverá el producto punto\n",
    "resultado = np.dot(matrix1,matrix2)\n",
    " \n",
    "# Imprimir la matriz resultante\n",
    "print(resultado)"
   ]
  },
  {
   "cell_type": "markdown",
   "id": "785f6c30",
   "metadata": {},
   "source": [
    "Fuente: \n",
    "\n",
    "https://www.youtube.com/channel/UCXq-PLvYAX-EufF5RAPihVg\n",
    "\n",
    "https://www.geeksforgeeks.org/\n",
    "\n",
    "https://medium.com/@seehleung/basic-calculus-explained-for-machine-learning-c7f642e7ced3\n",
    "\n",
    "https://blog.demir.io/understanding-gradient-descent-266fc3dcf02f"
   ]
  }
 ],
 "metadata": {
  "kernelspec": {
   "display_name": "Python 3",
   "language": "python",
   "name": "python3"
  },
  "language_info": {
   "codemirror_mode": {
    "name": "ipython",
    "version": 3
   },
   "file_extension": ".py",
   "mimetype": "text/x-python",
   "name": "python",
   "nbconvert_exporter": "python",
   "pygments_lexer": "ipython3",
   "version": "3.11.4"
  }
 },
 "nbformat": 4,
 "nbformat_minor": 5
}
